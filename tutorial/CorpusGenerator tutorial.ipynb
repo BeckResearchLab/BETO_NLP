{
 "cells": [
  {
   "cell_type": "markdown",
   "metadata": {},
   "source": [
    "# Scraping MetaData and getting Fulltexts\n",
    "\n",
    "This tutorial notebook uses the functions from `CorpusGenerator` and shows how to get the abstracts and fulltexts from Scopus.\n",
    "\n",
    "The first part of the notebook is used for pulling metadata from articles via Scopus' literature search. It can technically be used to scrape abstracts from anywhere within Scopus' database, but we've specifically limited it to Elsevier journals as that is the only journal that we have access to the fulltext options from. Specifically, this sets up a way to pull PII identification numbers automatically.\n",
    "\n",
    "To manually test queries, go to https://www.scopus.com/search/form.uri?display=advanced\n",
    "\n",
    "Elsevier maintains a list of all journals in a single excel spreadsheet. The link to that elsevier active journals link: https://www.elsevier.com/__data/promis_misc/sd-content/journals/jnlactivesubject.xls\n",
    "\n",
    "The second part of the notebook uses the metadata generated from the first part and gets the fulltexts out of that."
   ]
  },
  {
   "cell_type": "code",
   "execution_count": 1,
   "metadata": {},
   "outputs": [],
   "source": [
    "import sys\n",
    "sys.path.append('/Users/nisarg/Desktop/summer research/BETO_NLP/modules')\n",
    "import corpusgeneration\n",
    "from corpusgeneration import CorpusGenerator"
   ]
  },
  {
   "cell_type": "markdown",
   "metadata": {},
   "source": [
    "In order to get the articles, the first step requires you to get an API key from Scopus and adding it to your local config file. You can easily get an API key from https://dev.elsevier.com/documentation/SCOPUSSearchAPI.wadl with a quick registration. \n",
    "\n",
    "Once you have your API key, you need to add it to your computer using the following command:\n",
    "\n",
    "`import pybliometrics`\n",
    "\n",
    "`pybliometrics.scopus.utils.create_config()`\n",
    "\n",
    "This will prompt you to enter an API key which you obtained from the Scopus website. Once you're done with that you are good to download the articles using the following functions.\n",
    "\n",
    "**Note**: While downloading the articles from the Scopus, make sure you are connected to UW VPN (All Internet Traffic) using the BIG-IP Edge Client. Without that you might end up getting the Scopus authorization error."
   ]
  },
  {
   "cell_type": "markdown",
   "metadata": {},
   "source": [
    "Your `cache path` and `config path` would be unnder the `.scopus` directory in your local. \n",
    "\n",
    "`cache_path = '/Users/nisarg/.scopus/scopus_search/COMPLETE/'`\n",
    "\n",
    "The config path for `pybliometrics` is: `/Users/nisarg/.scopus/config.ini` (Would vary as per your local path)"
   ]
  },
  {
   "cell_type": "markdown",
   "metadata": {},
   "source": [
    "## Walking through the algorithm\n",
    "\n",
    "The algorithm will take the apikey and cache_path. We will also be defining the other parameters which are required for the functions in the class and show how to use the class to generate the stuff you need.\n",
    "\n",
    "`apikey:` could be one apikey or multiple keys which you generated from Scopus. "
   ]
  },
  {
   "cell_type": "code",
   "execution_count": 2,
   "metadata": {},
   "outputs": [],
   "source": [
    "apikey = '6bcdddd0c63296684f85245fe26ef03d', '060a5b0160e1ecc6b361060633700981', '095d720842e4a6103e699e2913da406f'"
   ]
  },
  {
   "cell_type": "code",
   "execution_count": 3,
   "metadata": {},
   "outputs": [],
   "source": [
    "cache_path = '/Users/nisarg/.scopus/scopus_search/COMPLETE/'"
   ]
  },
  {
   "cell_type": "code",
   "execution_count": 4,
   "metadata": {},
   "outputs": [],
   "source": [
    "c_gen = CorpusGenerator(apikey, cache_path)"
   ]
  },
  {
   "cell_type": "markdown",
   "metadata": {},
   "source": [
    "`term_list` is the list of the keywords through which the function generates the Corpus."
   ]
  },
  {
   "cell_type": "markdown",
   "metadata": {},
   "source": [
    "### Example for getting the PII and the metadata from the journals\n",
    "\n",
    "\n",
    "After mentioning the term_lists and pii_path (where the piis generated from the function are stored) we use the `get_piis` function. You will get a warning from this method call, but it's not a big deal. It's an underlying weirdness of the pandas.read_excel function."
   ]
  },
  {
   "cell_type": "code",
   "execution_count": 5,
   "metadata": {},
   "outputs": [],
   "source": [
    "term_list = ['deposition', 'corrosion', 'inhibit', 'corrosive', 'resistance', 'protect', 'acid', 'base', 'coke', 'coking', 'anti', \\\n",
    "             'layer', 'steel', 'mild steel', 'coating', 'degradation', 'oxidation', \\\n",
    "             'film', 'photo-corrosion', 'hydrolysis', 'Schiff']"
   ]
  },
  {
   "cell_type": "code",
   "execution_count": 6,
   "metadata": {},
   "outputs": [],
   "source": [
    "pii_path = '/Users/nisarg/Desktop/summer research/Ci_pii'"
   ]
  },
  {
   "cell_type": "code",
   "execution_count": null,
   "metadata": {},
   "outputs": [],
   "source": [
    "c_gen.get_piis(term_list, range(1995,2021), pii_path)"
   ]
  },
  {
   "cell_type": "markdown",
   "metadata": {},
   "source": [
    "After obtaining the piis, the metadata will be generated in the `pii_path` which will be used for obtaining the fulltexts as well as the dataframe for all the abstracts."
   ]
  },
  {
   "cell_type": "code",
   "execution_count": null,
   "metadata": {},
   "outputs": [],
   "source": [
    "fulltext_output_path = '/Users/nisarg/Desktop/summer research/test_run'"
   ]
  },
  {
   "cell_type": "code",
   "execution_count": null,
   "metadata": {
    "scrolled": true
   },
   "outputs": [],
   "source": [
    "c_gen.get_fulltexts(pii_path, fulltext_output_path)"
   ]
  },
  {
   "cell_type": "code",
   "execution_count": null,
   "metadata": {},
   "outputs": [],
   "source": [
    "dataframe_path = '/Users/nisarg/Desktop'"
   ]
  },
  {
   "cell_type": "code",
   "execution_count": null,
   "metadata": {},
   "outputs": [],
   "source": [
    "c_gen.make_dataframe(dataframe_path, pii_path)"
   ]
  }
 ],
 "metadata": {
  "kernelspec": {
   "display_name": "Python 3",
   "language": "python",
   "name": "python3"
  },
  "language_info": {
   "codemirror_mode": {
    "name": "ipython",
    "version": 3
   },
   "file_extension": ".py",
   "mimetype": "text/x-python",
   "name": "python",
   "nbconvert_exporter": "python",
   "pygments_lexer": "ipython3",
   "version": "3.6.10"
  }
 },
 "nbformat": 4,
 "nbformat_minor": 4
}
